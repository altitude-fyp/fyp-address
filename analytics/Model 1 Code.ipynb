{
 "cells": [
  {
   "cell_type": "code",
   "execution_count": 1,
   "metadata": {},
   "outputs": [
    {
     "data": {
      "text/plain": [
       "'\\nAs a strategist who is looking into focusing on a specific region in Singapore to market / \\nsell financial products, it would be useful for the strategist to understand the risk \\naversion and utility value of the investors in that region. This would give the strategist \\nan idea of the investors preference for risk. After doing so, the strategist would then be \\nable to recommend specific financial products to the region based on the optimal capital \\nallocation. \\n'"
      ]
     },
     "execution_count": 1,
     "metadata": {},
     "output_type": "execute_result"
    }
   ],
   "source": [
    "'''\n",
    "As a strategist who is looking into focusing on a specific region in Singapore to market / \n",
    "sell financial products, it would be useful for the strategist to understand the risk \n",
    "aversion and utility value of the investors in that region. This would give the strategist \n",
    "an idea of the investors preference for risk. After doing so, the strategist would then be \n",
    "able to recommend specific financial products to the region based on the optimal capital \n",
    "allocation. \n",
    "'''\n",
    "\n",
    "# Sequence to call the functions in \n",
    "# 1. Call all the functions from 1 to 11\n",
    "# 2. Call the risk aversion function to sum all 11 factors \n",
    "# 3. Calculate a single utility value \n",
    "# 4. Plot the graphs for each region using the points in utility graph with the optimal point"
   ]
  },
  {
   "cell_type": "code",
   "execution_count": 2,
   "metadata": {},
   "outputs": [],
   "source": [
    "# Calculating the data for OneMap to get the results \n",
    "# Economic Status \n",
    "def economic_status_1(employed, unemployed):\n",
    "    num = unemployed\n",
    "    den = unemployed + employed \n",
    "    result = num / den\n",
    "    \n",
    "    if result < 0.02: \n",
    "        bin1 = 0 \n",
    "    elif result < 0.04: \n",
    "        bin1 = 20\n",
    "    elif result < 0.06: \n",
    "        bin1 = 40\n",
    "    elif result < 0.08: \n",
    "        bin1 = 60 \n",
    "    elif result < 0.010:\n",
    "        bin1 = 80\n",
    "    else:\n",
    "        bin1 = 100 \n",
    "    return (bin1/100 * 0.10)"
   ]
  },
  {
   "cell_type": "code",
   "execution_count": 3,
   "metadata": {},
   "outputs": [
    {
     "data": {
      "text/plain": [
       "0.04000000000000001"
      ]
     },
     "execution_count": 3,
     "metadata": {},
     "output_type": "execute_result"
    }
   ],
   "source": [
    "a = 64100\n",
    "b = 2802 \n",
    "economic_status_1(a,b)"
   ]
  },
  {
   "cell_type": "code",
   "execution_count": 4,
   "metadata": {},
   "outputs": [],
   "source": [
    "# Education Attending\n",
    "def education_attending_2(pre_primary, primary, secondary, post_secondary, polytechnic, prof_qualification_diploma, university \n",
    "):\n",
    "    num = pre_primary + primary + secondary + post_secondary\n",
    "    den = pre_primary + primary + secondary + post_secondary + polytechnic + prof_qualification_diploma + university\n",
    "    result = num / den\n",
    "    \n",
    "    if result < 0.65: \n",
    "        bin1 = 0 \n",
    "    elif result < 0.70: \n",
    "        bin1 = 20\n",
    "    elif result < 0.75: \n",
    "        bin1 = 40\n",
    "    elif result < 0.80: \n",
    "        bin1 = 60 \n",
    "    elif result < 0.85: \n",
    "        bin1 = 80\n",
    "    else:\n",
    "        bin1 = 100 \n",
    "    return (bin1/100 * 0.05)"
   ]
  },
  {
   "cell_type": "code",
   "execution_count": 5,
   "metadata": {},
   "outputs": [
    {
     "data": {
      "text/plain": [
       "0.03"
      ]
     },
     "execution_count": 5,
     "metadata": {},
     "output_type": "execute_result"
    }
   ],
   "source": [
    "a = 4103 \n",
    "b = 20171 \n",
    "c = 15944\n",
    "d = 4363\n",
    "e = 6343\n",
    "f = 1326\n",
    "g = 5550 \n",
    "\n",
    "education_attending_2(a,b,c,d,e,f,g)"
   ]
  },
  {
   "cell_type": "code",
   "execution_count": 6,
   "metadata": {},
   "outputs": [],
   "source": [
    "# Household Monthly Income \n",
    "def household_monthly_income_3(below_sgd_1000, sgd_1000, sgd_2000, sgd_3000, sgd_4000, sgd_5000, sgd_6000, sgd_70009, sgd_8000, sgd_9000, sgd_10000_over): \n",
    "    num = below_sgd_1000 + sgd_1000 + sgd_2000 + sgd_3000 + sgd_4000 + sgd_5000\n",
    "    den = below_sgd_1000 + sgd_1000 + sgd_2000 + sgd_3000 + sgd_4000 + sgd_5000 + sgd_6000 + sgd_70009 + sgd_8000 + sgd_9000 + sgd_10000_over\n",
    "    result = num / den\n",
    "\n",
    "    if result < 0.10: \n",
    "        bin1 = 0 \n",
    "    elif result < 0.15: \n",
    "        bin1 = 20\n",
    "    elif result < 0.20: \n",
    "        bin1 = 40\n",
    "    elif result < 0.25: \n",
    "        bin1 = 60 \n",
    "    elif result < 0.30: \n",
    "        bin1 = 80\n",
    "    else: \n",
    "        bin1 = 100 \n",
    "    return (bin1/100 * 0.20)"
   ]
  },
  {
   "cell_type": "code",
   "execution_count": 7,
   "metadata": {},
   "outputs": [
    {
     "data": {
      "text/plain": [
       "0.2"
      ]
     },
     "execution_count": 7,
     "metadata": {},
     "output_type": "execute_result"
    }
   ],
   "source": [
    "a = 3965 \n",
    "b = 7815 \n",
    "c = 8461 \n",
    "d = 8128 \n",
    "e = 6733 \n",
    "f = 6174 \n",
    "g = 5291 \n",
    "h = 4229 \n",
    "i = 3712 \n",
    "j = 2758\n",
    "k = 22815\n",
    "household_monthly_income_3(a,b,c,d,e,f,g,h,i,j,k)"
   ]
  },
  {
   "cell_type": "code",
   "execution_count": 8,
   "metadata": {},
   "outputs": [],
   "source": [
    "# Industry\n",
    "def industry_4(manufacturing, construction, wholesale_retail_trade, transportation_storage, accomodation_food_services, information_communications, financial_insurance_services, real_estate_services, professional_services, admin_support_services, public_admin_education, health_social_services, arts_entertainment_recreation, other_comm_social_personal, others, hotels_restaurants, transport_communications, business_services, other_services_industries\n",
    "): \n",
    "    num = manufacturing + construction + wholesale_retail_trade + transportation_storage + accomodation_food_services + information_communications + real_estate_services + admin_support_services + public_admin_education + health_social_services + arts_entertainment_recreation + other_comm_social_personal + others + hotels_restaurants + transport_communications + business_services + other_services_industries\n",
    "    den = manufacturing + construction + wholesale_retail_trade + transportation_storage + accomodation_food_services + information_communications + financial_insurance_services + real_estate_services + professional_services + admin_support_services + public_admin_education + health_social_services + arts_entertainment_recreation + other_comm_social_personal + others + hotels_restaurants + transport_communications + business_services + other_services_industries\n",
    "    result = num / den\n",
    "    \n",
    "    if result < 0.65: \n",
    "        bin1 = 0 \n",
    "    elif result < 0.70: \n",
    "        bin1 = 20\n",
    "    elif result < 0.75: \n",
    "        bin1 = 40\n",
    "    elif result < 0.80: \n",
    "        bin1 = 60 \n",
    "    elif result < 0.85: \n",
    "        bin1 = 80\n",
    "    else:\n",
    "        bin1 = 100 \n",
    "    return (bin1/100 * 0.05)"
   ]
  },
  {
   "cell_type": "code",
   "execution_count": 9,
   "metadata": {},
   "outputs": [
    {
     "data": {
      "text/plain": [
       "0.04000000000000001"
      ]
     },
     "execution_count": 9,
     "metadata": {},
     "output_type": "execute_result"
    }
   ],
   "source": [
    "a = 16075 \n",
    "b = 6570 \n",
    "c = 23587 \n",
    "d = 15153 \n",
    "e = 9265 \n",
    "f = 7082 \n",
    "g = 12394 \n",
    "h = 3845 \n",
    "i = 10380 \n",
    "j = 7836 \n",
    "k = 18516 \n",
    "l = 6052 \n",
    "m = 2551 \n",
    "n = 4846 \n",
    "o = 1716 \n",
    "p = 0\n",
    "q = 0\n",
    "r = 0 \n",
    "s = 0   \n",
    "\n",
    "industry_4(a,b,c,d,e,f,g,h,i,j,k,l,m,n,o,p,q,r,s)"
   ]
  },
  {
   "cell_type": "code",
   "execution_count": 10,
   "metadata": {},
   "outputs": [],
   "source": [
    "# Marital Status \n",
    "def marital_status_5(single, married, widowed, divorced): \n",
    "    num = married + divorced\n",
    "    den = single + married + widowed + divorced\n",
    "\n",
    "    result = num / den\n",
    "    \n",
    "    if result < 0.55: \n",
    "        bin1 = 0 \n",
    "    elif result < 0.60: \n",
    "        bin1 = 20\n",
    "    elif result < 0.65: \n",
    "        bin1 = 40\n",
    "    elif result < 0.70: \n",
    "        bin1 = 60 \n",
    "    elif result < 0.75: \n",
    "        bin1 = 80\n",
    "    else:\n",
    "        bin1 = 100 \n",
    "    return (bin1/100 * 0.05)"
   ]
  },
  {
   "cell_type": "code",
   "execution_count": 11,
   "metadata": {},
   "outputs": [
    {
     "data": {
      "text/plain": [
       "0.020000000000000004"
      ]
     },
     "execution_count": 11,
     "metadata": {},
     "output_type": "execute_result"
    }
   ],
   "source": [
    "a = 43753 \n",
    "b = 71251 \n",
    "c = 2204 \n",
    "d = 3303 \n",
    "\n",
    "marital_status_5(a,b,c,d)"
   ]
  },
  {
   "cell_type": "code",
   "execution_count": 12,
   "metadata": {},
   "outputs": [],
   "source": [
    "# Mode of Transport to Work \n",
    "def mode_of_transport_6(bus, mrt, mrt_bus, mrt_car, mrt_other, taxi, car, pvt_chartered_bus, lorry_pickup, motorcycle_scooter, others \n",
    "): \n",
    "    num =  bus + mrt + mrt_bus + mrt_car + mrt_other + taxi + pvt_chartered_bus + lorry_pickup + motorcycle_scooter + others \n",
    "    den =  bus + mrt + mrt_bus + mrt_car + mrt_other + taxi + car + pvt_chartered_bus + lorry_pickup + motorcycle_scooter + others \n",
    "    result = num / den\n",
    "    \n",
    "    if result < 0.30: \n",
    "        bin1 = 0 \n",
    "    elif result < 0.40: \n",
    "        bin1 = 20\n",
    "    elif result < 0.50: \n",
    "        bin1 = 40\n",
    "    elif result < 0.60: \n",
    "        bin1 = 60 \n",
    "    elif result < 0.70: \n",
    "        bin1 = 80\n",
    "    else:\n",
    "        bin1 = 100 \n",
    "    return (bin1/100 * 0.10)"
   ]
  },
  {
   "cell_type": "code",
   "execution_count": 13,
   "metadata": {},
   "outputs": [
    {
     "data": {
      "text/plain": [
       "0.08000000000000002"
      ]
     },
     "execution_count": 13,
     "metadata": {},
     "output_type": "execute_result"
    }
   ],
   "source": [
    "a = 31472 \n",
    "b = 11280 \n",
    "c = 25128 \n",
    "d = 1052 \n",
    "e = 916 \n",
    "f = 2473 \n",
    "g = 40895 \n",
    "h = 3879 \n",
    "i = 2632 \n",
    "j = 5954 \n",
    "k = 9398 \n",
    "\n",
    "mode_of_transport_6(a,b,c,d,e,f,g,h,i,j,k)"
   ]
  },
  {
   "cell_type": "code",
   "execution_count": 14,
   "metadata": {},
   "outputs": [],
   "source": [
    "def occupation_7(senior_officials_managers, professionals, associate_professionals_tech, clerical, service_sales, agricultural_fishery, production_craftsmen, plant_machine_operators, cleaners_labourers , workers_not_classified):\n",
    "    num = associate_professionals_tech + clerical + service_sales + agricultural_fishery + production_craftsmen + plant_machine_operators + cleaners_labourers + workers_not_classified \n",
    "    den = senior_officials_managers + professionals + associate_professionals_tech + clerical + service_sales + agricultural_fishery + production_craftsmen + plant_machine_operators + cleaners_labourers + workers_not_classified \n",
    "    result = num / den\n",
    "    \n",
    "    if result < 0.30: \n",
    "        bin1 = 0 \n",
    "    elif result < 0.40: \n",
    "        bin1 = 20\n",
    "    elif result < 0.50: \n",
    "        bin1 = 40\n",
    "    elif result < 0.60: \n",
    "        bin1 = 60 \n",
    "    elif result < 0.70: \n",
    "        bin1 = 80\n",
    "    else:\n",
    "        bin1 = 100 \n",
    "    return (bin1/100 * 0.10)"
   ]
  },
  {
   "cell_type": "code",
   "execution_count": 15,
   "metadata": {},
   "outputs": [
    {
     "data": {
      "text/plain": [
       "0.08000000000000002"
      ]
     },
     "execution_count": 15,
     "metadata": {},
     "output_type": "execute_result"
    }
   ],
   "source": [
    "a = 24211 \n",
    "b = 21520 \n",
    "c = 32095 \n",
    "d = 18003 \n",
    "e = 18914 \n",
    "f = 41 \n",
    "g = 7351 \n",
    "h = 10273 \n",
    "i = 10512 \n",
    "j = 4747\n",
    "\n",
    "occupation_7(a,b,c,d,e,f,g,h,i,j)"
   ]
  },
  {
   "cell_type": "code",
   "execution_count": 16,
   "metadata": {},
   "outputs": [],
   "source": [
    "def population_age_group_8(age_0_4, age_5_9, age_10_14, age_15_19, age_20_24, age_25_29, age_30_34, age_35_39, age_40_44, age_45_49, age_50_54, age_55_59, age_60_64, age_65_69, age_70_74, age_75_79, age_80_84, age_85_over):\n",
    "    num = age_0_4 + age_5_9 + age_10_14 + age_15_19 + age_40_44 + age_45_49 + age_50_54 + age_55_59 + age_60_64 + age_65_69 + age_70_74 + age_75_79 + age_80_84 + age_85_over\n",
    "    den = age_0_4 + age_5_9 + age_10_14 + age_15_19 + age_20_24 + age_25_29 + age_30_34 + age_35_39 + age_40_44 + age_45_49 + age_50_54 + age_55_59 + age_60_64 + age_65_69 + age_70_74 + age_75_79 + age_80_84 + age_85_over\n",
    "    result = num / den\n",
    "    \n",
    "    if result < 0.70: \n",
    "        bin1 = 0 \n",
    "    elif result < 0.75: \n",
    "        bin1 = 20\n",
    "    elif result < 0.80: \n",
    "        bin1 = 40\n",
    "    elif result < 0.85: \n",
    "        bin1 = 60 \n",
    "    elif result < 0.90: \n",
    "        bin1 = 80\n",
    "    else:\n",
    "        bin1 = 100 \n",
    "    return (bin1/100 * 0.10)"
   ]
  },
  {
   "cell_type": "code",
   "execution_count": 17,
   "metadata": {},
   "outputs": [
    {
     "data": {
      "text/plain": [
       "0.020000000000000004"
      ]
     },
     "execution_count": 17,
     "metadata": {},
     "output_type": "execute_result"
    }
   ],
   "source": [
    "a = 12180 \n",
    "b = 14020 \n",
    "c = 15420 \n",
    "d = 17550 \n",
    "e = 20010 \n",
    "f = 20020 \n",
    "g = 20370 \n",
    "h = 21370 \n",
    "i = 22550 \n",
    "j = 22160 \n",
    "k = 23950 \n",
    "l = 23320 \n",
    "m = 20360 \n",
    "n = 15010 \n",
    "o = 9620 \n",
    "p = 6980 \n",
    "q = 4510 \n",
    "r = 3720 \n",
    "\n",
    "population_age_group_8(a,b,c,d,e,f,g,h,i,j,k,l,m,n,o,p,q,r)"
   ]
  },
  {
   "cell_type": "code",
   "execution_count": 18,
   "metadata": {},
   "outputs": [],
   "source": [
    "def tenancy_9(owner, tenant, others): \n",
    "    num = tenant + others\n",
    "    den = owner + tenant + others\n",
    "    result = num / den\n",
    "    \n",
    "    if result < 0.05: \n",
    "        bin1 = 0 \n",
    "    elif result < 0.10: \n",
    "        bin1 = 20\n",
    "    elif result < 0.15: \n",
    "        bin1 = 40\n",
    "    elif result < 0.20: \n",
    "        bin1 = 60 \n",
    "    elif result < 0.25: \n",
    "        bin1 = 80\n",
    "    else:\n",
    "        bin1 = 100 \n",
    "    return (bin1/100 * 0.10)"
   ]
  },
  {
   "cell_type": "code",
   "execution_count": 19,
   "metadata": {},
   "outputs": [
    {
     "data": {
      "text/plain": [
       "0.04000000000000001"
      ]
     },
     "execution_count": 19,
     "metadata": {},
     "output_type": "execute_result"
    }
   ],
   "source": [
    "a = 78754\n",
    "b = 11087\n",
    "c = 1383\n",
    "\n",
    "tenancy_9(a,b,c)"
   ]
  },
  {
   "cell_type": "code",
   "execution_count": 20,
   "metadata": {},
   "outputs": [],
   "source": [
    "def type_of_household_10(hdb_1_2_room_flats, hdb_3_room_flats, hdb_4_room_flats, hdb_5_room_executive_flats, condominiums, landed_properties):\n",
    "    num = hdb_1_2_room_flats + hdb_3_room_flats + hdb_4_room_flats\n",
    "    den = hdb_1_2_room_flats + hdb_3_room_flats + hdb_4_room_flats + hdb_5_room_executive_flats + condominiums + landed_properties\n",
    "    result = num / den\n",
    "    \n",
    "    if result < 0.20: \n",
    "        bin1 = 0 \n",
    "    elif result < 0.30: \n",
    "        bin1 = 20\n",
    "    elif result < 0.40: \n",
    "        bin1 = 40\n",
    "    elif result < 0.50: \n",
    "        bin1 = 60 \n",
    "    elif result < 0.60: \n",
    "        bin1 = 80\n",
    "    else:\n",
    "        bin1 = 100 \n",
    "    return (bin1/100 * 0.07)"
   ]
  },
  {
   "cell_type": "code",
   "execution_count": 21,
   "metadata": {},
   "outputs": [
    {
     "data": {
      "text/plain": [
       "0.05600000000000001"
      ]
     },
     "execution_count": 21,
     "metadata": {},
     "output_type": "execute_result"
    }
   ],
   "source": [
    "a = 4233 \n",
    "b = 23792 \n",
    "c = 21673 \n",
    "d = 14003 \n",
    "e = 15148 \n",
    "f = 11765 \n",
    "\n",
    "type_of_household_10(a,b,c,d,e,f)"
   ]
  },
  {
   "cell_type": "code",
   "execution_count": 22,
   "metadata": {},
   "outputs": [],
   "source": [
    "def type_of_household_population_11(hdb_1_2_room_flats, hdb_3_room_flats, hdb_4_room_flats, hdb_5_room_executive_flats, condominiums, landed_properties):\n",
    "    num = hdb_1_2_room_flats + hdb_3_room_flats + hdb_4_room_flats\n",
    "    den = hdb_1_2_room_flats + hdb_3_room_flats + hdb_4_room_flats + hdb_5_room_executive_flats + condominiums + landed_properties\n",
    "    result = num / den\n",
    "    \n",
    "    if result < 0.20: \n",
    "        bin1 = 0 \n",
    "    elif result < 0.30: \n",
    "        bin1 = 20\n",
    "    elif result < 0.40: \n",
    "        bin1 = 40\n",
    "    elif result < 0.50: \n",
    "        bin1 = 60 \n",
    "    elif result < 0.60: \n",
    "        bin1 = 80\n",
    "    else:\n",
    "        bin1 = 100 \n",
    "    return (bin1/100 * 0.08)"
   ]
  },
  {
   "cell_type": "code",
   "execution_count": 23,
   "metadata": {},
   "outputs": [
    {
     "data": {
      "text/plain": [
       "0.08"
      ]
     },
     "execution_count": 23,
     "metadata": {},
     "output_type": "execute_result"
    }
   ],
   "source": [
    "a = 7420\n",
    "b = 75680 \n",
    "c = 56480 \n",
    "d = 23740 \n",
    "e = 7580 \n",
    "f = 9300 \n",
    "\n",
    "type_of_household_population_11(a,b,c,d,e,f)"
   ]
  },
  {
   "cell_type": "code",
   "execution_count": 24,
   "metadata": {},
   "outputs": [],
   "source": [
    "# Sum all of the 11 factors and convert to risk aversion range  \n",
    "def risk_aversion_12(f1,f2,f3,f4,f5,f6,f7,f8,f9,f10,f11):\n",
    "    A = ((f1 + f2 + f3 + f4 + f5 + f6 + f7 + f8 + f9 + f10 + f11) * 3)\n",
    "    \n",
    "    if A < 0:\n",
    "        A = 0 \n",
    "    elif A > 5: \n",
    "        A = 5 \n",
    "    return A  "
   ]
  },
  {
   "cell_type": "code",
   "execution_count": 25,
   "metadata": {},
   "outputs": [
    {
     "data": {
      "text/plain": [
       "2.0580000000000003"
      ]
     },
     "execution_count": 25,
     "metadata": {},
     "output_type": "execute_result"
    }
   ],
   "source": [
    "a = 0.04\n",
    "b = 0.03\n",
    "c = 0.2\n",
    "d = 0.04\n",
    "e = 0.02 \n",
    "f = 0.08\n",
    "g = 0.08\n",
    "h = 0.02\n",
    "i = 0.04\n",
    "j = 0.056\n",
    "k = 0.08\n",
    "\n",
    "risk_aversion_12(a,b,c,d,e,f,g,h,i,j,k)"
   ]
  },
  {
   "cell_type": "code",
   "execution_count": 26,
   "metadata": {},
   "outputs": [],
   "source": [
    "def utility (a): \n",
    "    e = 0.12\n",
    "    sd = 0.05\n",
    "    sf = 0.5\n",
    "    u = e - (sf * sd**2 * a)\n",
    "    return (u)"
   ]
  },
  {
   "cell_type": "code",
   "execution_count": 27,
   "metadata": {},
   "outputs": [
    {
     "data": {
      "text/plain": [
       "0.11742749999999999"
      ]
     },
     "execution_count": 27,
     "metadata": {},
     "output_type": "execute_result"
    }
   ],
   "source": [
    "utility (2.058)"
   ]
  },
  {
   "cell_type": "code",
   "execution_count": 28,
   "metadata": {},
   "outputs": [],
   "source": [
    "# Returns CAL x and y data points with slope value\n",
    "def cal (x = [0, 0.26], y = [0.07, 0.12]): \n",
    "    from scipy.stats import linregress\n",
    "    stats = linregress(x, y)\n",
    "    sharpe = stats[0]\n",
    "    return (x, y, sharpe)"
   ]
  },
  {
   "cell_type": "code",
   "execution_count": 29,
   "metadata": {},
   "outputs": [
    {
     "data": {
      "text/plain": [
       "([0, 0.26], [0.07, 0.12], 0.19230769230769226)"
      ]
     },
     "execution_count": 29,
     "metadata": {},
     "output_type": "execute_result"
    }
   ],
   "source": [
    "cal()"
   ]
  },
  {
   "cell_type": "code",
   "execution_count": 30,
   "metadata": {},
   "outputs": [
    {
     "data": {
      "image/png": "[encoded data removed]",
      "text/plain": [
       "<Figure size 432x288 with 1 Axes>"
      ]
     },
     "metadata": {
      "needs_background": "light"
     },
     "output_type": "display_data"
    },
    {
     "data": {
      "image/png": "[encoded data removed]",
      "text/plain": [
       "<Figure size 432x288 with 1 Axes>"
      ]
     },
     "metadata": {},
     "output_type": "display_data"
    }
   ],
   "source": [
    "# Capital Allocation Line \n",
    "import matplotlib.pyplot as plt\n",
    "import numpy as np\n",
    "\n",
    "x1 = [0, 0.26] \n",
    "y1 = [0.07, 0.12]\n",
    "plt.plot(x1, y1, label='Risky Portfolio')\n",
    "\n",
    "plt.title('Capital Allocation Line')\n",
    "plt.ylim(0, 0.15)\n",
    "plt.xlabel('Standard Deviation')\n",
    "plt.ylabel('Expected Return')\n",
    "plt.style.use('dark_background')\n",
    "\n",
    "plt.legend()\n",
    "plt.show()\n",
    "\n",
    "x2 = [0, 0.26] \n",
    "y2 = [0.07, 0.12]\n",
    "plt.plot(x2, y2, label='Market Portfolio')\n",
    "\n",
    "plt.title('Capital Market Line')\n",
    "plt.ylim(0, 0.15)\n",
    "plt.xlabel('Standard Deviation')\n",
    "plt.ylabel('Expected Return')\n",
    "plt.style.use('dark_background')\n",
    "\n",
    "plt.legend()\n",
    "plt.show()"
   ]
  },
  {
   "cell_type": "code",
   "execution_count": 31,
   "metadata": {},
   "outputs": [],
   "source": [
    "# Expected Return with weight in Risky Assets \n",
    "def expected_return (): \n",
    "    e = 0.12\n",
    "    rf = 0.07\n",
    "    \n",
    "    risky = [0, 0.1 , 0.2, 0.3, 0.4, 0.5, 0.6, 0.7, 0.8, 0.9, 1] # x axis\n",
    "    expected_returns = [] # y axis \n",
    "    for y in risky:\n",
    "        risk_free = 1 - y\n",
    "        er = e * y + risk_free * rf\n",
    "        expected_returns.append(er)\n",
    "    return(risky, expected_returns)"
   ]
  },
  {
   "cell_type": "code",
   "execution_count": 32,
   "metadata": {},
   "outputs": [
    {
     "data": {
      "text/plain": [
       "([0, 0.1, 0.2, 0.3, 0.4, 0.5, 0.6, 0.7, 0.8, 0.9, 1],\n",
       " [0.07,\n",
       "  0.07500000000000001,\n",
       "  0.08000000000000002,\n",
       "  0.08499999999999999,\n",
       "  0.09,\n",
       "  0.095,\n",
       "  0.1,\n",
       "  0.105,\n",
       "  0.11,\n",
       "  0.11499999999999999,\n",
       "  0.12])"
      ]
     },
     "execution_count": 32,
     "metadata": {},
     "output_type": "execute_result"
    }
   ],
   "source": [
    "expected_return ()"
   ]
  },
  {
   "cell_type": "code",
   "execution_count": 33,
   "metadata": {},
   "outputs": [
    {
     "data": {
      "image/png": "[encoded data removed]",
      "text/plain": [
       "<Figure size 432x288 with 1 Axes>"
      ]
     },
     "metadata": {},
     "output_type": "display_data"
    }
   ],
   "source": [
    "x1 = [0, 0.1 , 0.2, 0.3, 0.4, 0.5, 0.6, 0.7, 0.8, 0.9, 1]\n",
    "y1 = [0.07, 0.07500000000000001, 0.08000000000000002, 0.08499999999999999, 0.09, 0.095, 0.1, 0.105, 0.11, 0.11499999999999999, 0.12]\n",
    "plt.plot(x1, y1, label='-')\n",
    "\n",
    "plt.title('Expected Return as a Function of Allocation to Risky Asset')\n",
    "plt.ylim(0, 0.15)\n",
    "plt.xlabel('Risky Assets')\n",
    "plt.ylabel('Expected Return')\n",
    "plt.style.use('dark_background')\n",
    "\n",
    "plt.legend()\n",
    "plt.show()"
   ]
  },
  {
   "cell_type": "code",
   "execution_count": 34,
   "metadata": {},
   "outputs": [],
   "source": [
    "# Returns the data points for 'Utility as a Function of Allocation to Risky Asset'\n",
    "def utility_to_risky (a): \n",
    "    e = 0.12\n",
    "    rf = 0.07\n",
    "    r_sd = 0.26\n",
    "    rf_sd = 0.00\n",
    "    sf = 0.5\n",
    "    \n",
    "    risky = [0, 0.1 , 0.2, 0.3, 0.4, 0.5, 0.6, 0.7, 0.8, 0.9, 1] # x axis\n",
    "    utility_values = [] # y axis \n",
    "    for y in risky:\n",
    "        risk_free = 1 - y\n",
    "        er = e * y + risk_free * rf\n",
    "        sd = r_sd * y + risk_free * rf_sd \n",
    "        u = er - (sf * sd**2 * a)\n",
    "        utility_values.append(u)\n",
    "    return(risky, utility_values)"
   ]
  },
  {
   "cell_type": "code",
   "execution_count": 35,
   "metadata": {},
   "outputs": [
    {
     "data": {
      "text/plain": [
       "([0, 0.1, 0.2, 0.3, 0.4, 0.5, 0.6, 0.7, 0.8, 0.9, 1],\n",
       " [0.07,\n",
       "  0.07430439600000001,\n",
       "  0.07721758400000002,\n",
       "  0.078739564,\n",
       "  0.078870336,\n",
       "  0.0776099,\n",
       "  0.074958256,\n",
       "  0.070915404,\n",
       "  0.065481344,\n",
       "  0.05865607599999999,\n",
       "  0.05043959999999999])"
      ]
     },
     "execution_count": 35,
     "metadata": {},
     "output_type": "execute_result"
    }
   ],
   "source": [
    "utility_to_risky (2.058)"
   ]
  },
  {
   "cell_type": "code",
   "execution_count": 36,
   "metadata": {},
   "outputs": [
    {
     "data": {
      "image/png": "[encoded data removed]",
      "text/plain": [
       "<Figure size 432x288 with 1 Axes>"
      ]
     },
     "metadata": {},
     "output_type": "display_data"
    }
   ],
   "source": [
    "# Each line would be representative of one region \n",
    "\n",
    "x1 = [0, 0.1 , 0.2, 0.3, 0.4, 0.5, 0.6, 0.7, 0.8, 0.9, 1]\n",
    "y1 = [0.07, 0.07430439600000001, 0.07721758400000002, 0.078739564, 0.078870336, 0.0776099, 0.074958256, 0.070915404, 0.065481344, 0.05865607599999999, 0.05043959999999999]\n",
    "plt.plot(x1, y1, label='Bedok')\n",
    "\n",
    "x2 = [0, 0.1 , 0.2, 0.3, 0.4, 0.5, 0.6, 0.7, 0.8, 0.9, 1]\n",
    "y2 = [0.0700, 0.0744, 0.0775, 0.0794, 0.0801, 0.0795, 0.0777, 0.0747, 0.0704, 0.0649, 0.0581]\n",
    "plt.plot(x2, y2, label='Yishun')\n",
    "\n",
    "x3 = [0, 0.1 , 0.2, 0.3, 0.4, 0.5, 0.6, 0.7, 0.8, 0.9, 1]\n",
    "y3 = [0.0700, 0.0747, 0.0786, 0.0819, 0.0845, 0.0864, 0.0876, 0.0881, 0.0879, 0.0871, 0.0855]\n",
    "plt.plot(x3, y3, label='Tanglin')\n",
    "\n",
    "plt.title('Utility as a Function of Allocation to Risky Asset')\n",
    "plt.ylim(0, 0.10)\n",
    "plt.xlabel('Risky Assets')\n",
    "plt.ylabel('Utility Value')\n",
    "plt.style.use('dark_background')\n",
    "\n",
    "plt.legend()\n",
    "plt.show()"
   ]
  },
  {
   "cell_type": "code",
   "execution_count": 37,
   "metadata": {},
   "outputs": [],
   "source": [
    "# Returns you the optimal y and risk free weight\n",
    "# This point can be highlighted on the graph \n",
    "def optimal_y (a): \n",
    "    # Values here need to be the same as on top \n",
    "    p_e = 0.12\n",
    "    rf = 0.07\n",
    "    p_sd = 0.26\n",
    "    \n",
    "    optimal_y = (p_e - rf) / (a * p_sd**2)\n",
    "    risk_free_weight = 1 - optimal_y\n",
    "    return (optimal_y, risk_free_weight)"
   ]
  },
  {
   "cell_type": "code",
   "execution_count": 38,
   "metadata": {},
   "outputs": [
    {
     "data": {
      "text/plain": [
       "(0.3593998884422745, 0.6406001115577256)"
      ]
     },
     "execution_count": 38,
     "metadata": {},
     "output_type": "execute_result"
    }
   ],
   "source": [
    "optimal_y (2.058)"
   ]
  },
  {
   "cell_type": "code",
   "execution_count": 39,
   "metadata": {},
   "outputs": [
    {
     "data": {
      "image/png": "[encoded data removed]",
      "text/plain": [
       "<Figure size 432x288 with 1 Axes>"
      ]
     },
     "metadata": {},
     "output_type": "display_data"
    }
   ],
   "source": [
    "# Each line would be representative of one region \n",
    "\n",
    "x1 = [0, 0.1 , 0.2, 0.3, 0.4, 0.5, 0.6, 0.7, 0.8, 0.9, 1]\n",
    "y1 = [0.07, 0.07430439600000001, 0.07721758400000002, 0.078739564, 0.078870336, 0.0776099, 0.074958256, 0.070915404, 0.065481344, 0.05865607599999999, 0.05043959999999999]\n",
    "plt.plot(x1, y1, label='Bedok')\n",
    "\n",
    "x2 = [0, 0.1 , 0.2, 0.3, 0.4, 0.5, 0.6, 0.7, 0.8, 0.9, 1]\n",
    "y2 = [0.0700, 0.0744, 0.0775, 0.0794, 0.0801, 0.0795, 0.0777, 0.0747, 0.0704, 0.0649, 0.0581]\n",
    "plt.plot(x2, y2, label='Yishun')\n",
    "\n",
    "x3 = [0, 0.1 , 0.2, 0.3, 0.4, 0.5, 0.6, 0.7, 0.8, 0.9, 1]\n",
    "y3 = [0.0700, 0.0747, 0.0786, 0.0819, 0.0845, 0.0864, 0.0876, 0.0881, 0.0879, 0.0871, 0.0855]\n",
    "plt.plot(x3, y3, label='Tanglin')\n",
    "\n",
    "plt.title('Utility as a Function of Allocation to Risky Asset')\n",
    "plt.ylim(0, 0.10)\n",
    "plt.xlabel('Risky Assets')\n",
    "plt.ylabel('Utility Value')\n",
    "plt.style.use('dark_background')\n",
    "\n",
    "plt.annotate(\"II\", (0.3593998884422745 , 0.0790))\n",
    "\n",
    "plt.legend()\n",
    "plt.show()"
   ]
  },
  {
   "cell_type": "code",
   "execution_count": 40,
   "metadata": {},
   "outputs": [],
   "source": [
    "# Indifference Curve based on the highest utility \n",
    "def indifference_curve (u, a): \n",
    "    # At standard deviation of 0, U = rf\n",
    "    rf = 0.07\n",
    "    sd_list = [0, 0.1, 0.2, 0.3, 0.4, 0.5, 0.6, 0.7, 0.8, 0.9, 1.0]\n",
    "    sf = 0.5\n",
    "    \n",
    "    new_rate = []\n",
    "    \n",
    "    for sd in sd_list: \n",
    "        rate = rf + (sf * sd**2 * a)\n",
    "        new_rate.append(rate)\n",
    "    return (sd_list, new_rate)"
   ]
  },
  {
   "cell_type": "code",
   "execution_count": 41,
   "metadata": {},
   "outputs": [
    {
     "data": {
      "text/plain": [
       "([0, 0.1, 0.2, 0.3, 0.4, 0.5, 0.6, 0.7, 0.8, 0.9, 1.0],\n",
       " [0.07,\n",
       "  0.07039500000000001,\n",
       "  0.07158,\n",
       "  0.07355500000000001,\n",
       "  0.07632000000000001,\n",
       "  0.079875,\n",
       "  0.08422,\n",
       "  0.089355,\n",
       "  0.09528,\n",
       "  0.101995,\n",
       "  0.10950000000000001])"
      ]
     },
     "execution_count": 41,
     "metadata": {},
     "output_type": "execute_result"
    }
   ],
   "source": [
    "indifference_curve (2.058 , 0.0790)"
   ]
  },
  {
   "cell_type": "code",
   "execution_count": 42,
   "metadata": {},
   "outputs": [
    {
     "data": {
      "text/plain": [
       "11"
      ]
     },
     "execution_count": 42,
     "metadata": {},
     "output_type": "execute_result"
    }
   ],
   "source": [
    "x1 = [0, 0.1, 0.2, 0.3, 0.4, 0.5, 0.6, 0.7, 0.8, 0.9, 1.0]\n",
    "y1 = [0.07, 0.070395, 0.07158, 0.073555, 0.07632, 0.079875, 0.08422, 0.089355, 0.09528, 0.101995, 0.1095]\n",
    "\n",
    "len(y1)"
   ]
  },
  {
   "cell_type": "code",
   "execution_count": 43,
   "metadata": {},
   "outputs": [
    {
     "data": {
      "image/png": "[encoded data removed]",
      "text/plain": [
       "<Figure size 432x288 with 1 Axes>"
      ]
     },
     "metadata": {},
     "output_type": "display_data"
    }
   ],
   "source": [
    "x1 = [0, 0.1, 0.2, 0.3, 0.4, 0.5, 0.6, 0.7, 0.8, 0.9, 1.0]\n",
    "y1 = [0.07, 0.070395, 0.07158, 0.073555, 0.07632, 0.079875, 0.08422, 0.089355, 0.09528, 0.101995, 0.1095]\n",
    "plt.plot(x1, y1, label='Bedok')\n",
    "\n",
    "plt.title('Indifference Curve')\n",
    "plt.ylim(0.065, 0.11)\n",
    "plt.xlabel('Standard Deviation')\n",
    "plt.ylabel('Expected Return')\n",
    "plt.style.use('dark_background')\n",
    "\n",
    "plt.legend()\n",
    "plt.show()"
   ]
  },
  {
   "cell_type": "code",
   "execution_count": 44,
   "metadata": {},
   "outputs": [
    {
     "data": {
      "image/png": "[encoded data removed]",
      "text/plain": [
       "<Figure size 432x288 with 1 Axes>"
      ]
     },
     "metadata": {},
     "output_type": "display_data"
    }
   ],
   "source": [
    "x1 = [0, 0.1, 0.2, 0.3, 0.4, 0.5, 0.6, 0.7, 0.8, 0.9, 1.0]\n",
    "y1 = [0.07, 0.070395, 0.07158, 0.073555, 0.07632, 0.079875, 0.08422, 0.089355, 0.09528, 0.101995, 0.1095]\n",
    "plt.plot(x1, y1, label='Bedok - Indifference Curve')\n",
    "\n",
    "# Need to figure out how to link this \n",
    "x2 = [0, 1.0] \n",
    "y2 = [0.07, 0.095]\n",
    "plt.plot(x2, y2, label='CAL')\n",
    "\n",
    "plt.title('Optimal Complete Portfolio')\n",
    "plt.ylim(0.065, 0.12)\n",
    "plt.xlabel('Standard Deviation')\n",
    "plt.ylabel('Expected Return')\n",
    "plt.style.use('dark_background')\n",
    "\n",
    "plt.legend()\n",
    "plt.show()"
   ]
  },
  {
   "cell_type": "code",
   "execution_count": null,
   "metadata": {},
   "outputs": [],
   "source": []
  },
  {
   "cell_type": "code",
   "execution_count": null,
   "metadata": {},
   "outputs": [],
   "source": []
  },
  {
   "cell_type": "code",
   "execution_count": null,
   "metadata": {},
   "outputs": [],
   "source": []
  }
 ],
 "metadata": {
  "kernelspec": {
   "display_name": "Python 3",
   "language": "python",
   "name": "python3"
  },
  "language_info": {
   "codemirror_mode": {
    "name": "ipython",
    "version": 3
   },
   "file_extension": ".py",
   "mimetype": "text/x-python",
   "name": "python",
   "nbconvert_exporter": "python",
   "pygments_lexer": "ipython3",
   "version": "3.8.3"
  }
 },
 "nbformat": 4,
 "nbformat_minor": 4
}
